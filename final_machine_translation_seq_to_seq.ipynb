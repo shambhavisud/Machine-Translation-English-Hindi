{
  "nbformat": 4,
  "nbformat_minor": 0,
  "metadata": {
    "colab": {
      "name": "final_machine_translation_seq_to_seq.ipynb",
      "provenance": [],
      "collapsed_sections": []
    },
    "kernelspec": {
      "display_name": "Python 3",
      "name": "python3"
    },
    "language_info": {
      "name": "python"
    },
    "accelerator": "GPU"
  },
  "cells": [
    {
      "cell_type": "markdown",
      "metadata": {
        "id": "LXXvbpvuNFPR"
      },
      "source": [
        "# Necessary Imports and Installations"
      ]
    },
    {
      "cell_type": "code",
      "metadata": {
        "colab": {
          "base_uri": "https://localhost:8080/"
        },
        "id": "dQHkNy3nFbaE",
        "outputId": "b4615011-71ab-4ee4-ff6f-7c7315425668"
      },
      "source": [
        "!pip install -U future"
      ],
      "execution_count": null,
      "outputs": [
        {
          "output_type": "stream",
          "name": "stdout",
          "text": [
            "Requirement already satisfied: future in /usr/local/lib/python3.7/dist-packages (0.16.0)\n",
            "Collecting future\n",
            "  Downloading future-0.18.2.tar.gz (829 kB)\n",
            "\u001b[K     |████████████████████████████████| 829 kB 5.1 MB/s \n",
            "\u001b[?25hBuilding wheels for collected packages: future\n",
            "  Building wheel for future (setup.py) ... \u001b[?25l\u001b[?25hdone\n",
            "  Created wheel for future: filename=future-0.18.2-py3-none-any.whl size=491070 sha256=31f219771d090897849f72c535f36b06bd7c3173fa9b1326fd0fc33e90ce6a18\n",
            "  Stored in directory: /root/.cache/pip/wheels/56/b0/fe/4410d17b32f1f0c3cf54cdfb2bc04d7b4b8f4ae377e2229ba0\n",
            "Successfully built future\n",
            "Installing collected packages: future\n",
            "  Attempting uninstall: future\n",
            "    Found existing installation: future 0.16.0\n",
            "    Uninstalling future-0.16.0:\n",
            "      Successfully uninstalled future-0.16.0\n",
            "Successfully installed future-0.18.2\n"
          ]
        }
      ]
    },
    {
      "cell_type": "code",
      "metadata": {
        "id": "3cqy5LZEFpaO"
      },
      "source": [
        "import os, sys\n",
        "\n",
        "from keras.models import Model\n",
        "from __future__ import print_function, division\n",
        "from keras.preprocessing.text import Tokenizer\n",
        "from keras.layers import Input, LSTM, GRU, Dense, Embedding\n",
        "\n",
        "import numpy as np\n",
        "from builtins import range, input\n",
        "from keras.preprocessing.sequence import pad_sequences\n",
        "import matplotlib.pyplot as plt\n",
        "\n",
        "\n",
        "\n"
      ],
      "execution_count": 22,
      "outputs": []
    },
    {
      "cell_type": "code",
      "metadata": {
        "id": "ltxH6v_TSmSv"
      },
      "source": [
        "try:\n",
        "  import keras.backend as K\n",
        "  if len(K.tensorflow_backend._get_available_gpus()) > 0:\n",
        "    from keras.layers import CuDNNLSTM as LSTM\n",
        "    from keras.layers import CuDNNGRU as GRU\n",
        "except:\n",
        "  pass\n"
      ],
      "execution_count": 23,
      "outputs": []
    },
    {
      "cell_type": "code",
      "metadata": {
        "id": "MBjQRd_ZSzsf"
      },
      "source": [
        "\n",
        "n_size_batch = 64  \n",
        "nepochs = 40 \n",
        "dim_latent = 256  \n",
        "samples_num = 10000  \n",
        "num_wrds_max = 20000\n",
        "dim_embedding = 100\n"
      ],
      "execution_count": 24,
      "outputs": []
    },
    {
      "cell_type": "code",
      "metadata": {
        "id": "JcwNHY3rVKBM",
        "colab": {
          "base_uri": "https://localhost:8080/"
        },
        "outputId": "4e8cfa58-3d1d-4965-e5e0-0e366ec80b38"
      },
      "source": [
        "\n",
        "\n",
        "from google.colab import drive\n",
        "drive.mount('/content/drive')"
      ],
      "execution_count": 25,
      "outputs": [
        {
          "output_type": "stream",
          "name": "stdout",
          "text": [
            "Drive already mounted at /content/drive; to attempt to forcibly remount, call drive.mount(\"/content/drive\", force_remount=True).\n"
          ]
        }
      ]
    },
    {
      "cell_type": "markdown",
      "metadata": {
        "id": "IeYXZG2TNVFY"
      },
      "source": [
        "# Where we Store the Data \n",
        " Data Loading and keeping only a limited number of samples to avoid the model taking a long time to train."
      ]
    },
    {
      "cell_type": "code",
      "metadata": {
        "id": "FyP2x68FS20s"
      },
      "source": [
        "sentences_inputs = [] #INITIAL LANGUAGE SENTENTCES\n",
        "sentences_outputs = [] # LANGUAGE SENTNCES IN TARGETTED LANG\n",
        "sentences_outputs_inputs = [] #offset by1f targ lang"
      ],
      "execution_count": 26,
      "outputs": []
    },
    {
      "cell_type": "code",
      "metadata": {
        "colab": {
          "base_uri": "https://localhost:8080/"
        },
        "id": "GX5N-emYS5VY",
        "outputId": "e20ec5b2-335e-4775-ee64-632a2738839b"
      },
      "source": [
        "b = 0\n",
        "for line in open('/content/drive/My Drive/translation_files/hin.txt'):\n",
        "\n",
        "  b += 1\n",
        "  if b > samples_num:\n",
        "    break\n",
        "\n",
        "\n",
        "  if '\\t' not in line:\n",
        "    continue\n",
        "\n",
        "#Splitting of i/p & translation\n",
        "  sentences_input, translation, *rest = line.rstrip().split('\\t')\n",
        "\n",
        "  \n",
        "  sentences_output = translation + ' <eos>'\n",
        "  sentences_output_input = '<sos> ' + translation\n",
        "\n",
        "  sentences_inputs.append(sentences_input)\n",
        "  sentences_outputs.append(sentences_output)\n",
        "  sentences_outputs_inputs.append(sentences_output_input)\n",
        "print(\"number of samples:\", len(sentences_inputs))"
      ],
      "execution_count": 27,
      "outputs": [
        {
          "output_type": "stream",
          "name": "stdout",
          "text": [
            "number of samples: 2952\n"
          ]
        }
      ]
    },
    {
      "cell_type": "markdown",
      "metadata": {
        "id": "-KDDs5hdPa6I"
      },
      "source": [
        "# Tokenize\n",
        "tokenize the inputs and outputs and fetch the word-to-index mapping for the i/p and o/p language. Filtering outputs such that we avoid removing special chars else it will be difficult to find end-of-sentence and start-of-sentence tokens. Padding the seqs to maxlen."
      ]
    },
    {
      "cell_type": "code",
      "metadata": {
        "colab": {
          "base_uri": "https://localhost:8080/"
        },
        "id": "-Ag3J1qvZsK6",
        "outputId": "b88d164d-2169-442f-856f-675aabaf68ab"
      },
      "source": [
        "\n",
        "ips_toknisr = Tokenizer(num_words=num_wrds_max)\n",
        "ips_toknisr.fit_on_texts(sentences_inputs)\n",
        "seqs_ip = ips_toknisr.texts_to_sequences(sentences_inputs)\n",
        "\n",
        "\n",
        "inputs_w2ind = ips_toknisr.word_index\n",
        "print(' %s different i/p tokens were found.' % len(inputs_w2ind))\n",
        "\n",
        "ip_mx_lnth = max(len(i) for i in seqs_ip)\n",
        "\n",
        "\n",
        "op_tokniser = Tokenizer(num_words=num_wrds_max, filters='')\n",
        "op_tokniser.fit_on_texts(sentences_outputs + sentences_outputs_inputs) # inefficient, oh well\n",
        "target_sequences = op_tokniser.texts_to_sequences(sentences_outputs)\n",
        "ip_target_seqs = op_tokniser.texts_to_sequences(sentences_outputs_inputs)\n",
        "\n",
        "outputs_w2ind = op_tokniser.word_index\n",
        "print(' %s different output tokens we re foun d' % len(outputs_w2ind))\n",
        "\n",
        "op_num_wrds = len(outputs_w2ind) + 1\n",
        "\n",
        "\n",
        "trgt_lenth_mx = max(len(sn) for sn in target_sequences)"
      ],
      "execution_count": 28,
      "outputs": [
        {
          "output_type": "stream",
          "name": "stdout",
          "text": [
            " 2429 different i/p tokens were found.\n",
            " 3195 different output tokens we re foun d\n"
          ]
        }
      ]
    },
    {
      "cell_type": "code",
      "metadata": {
        "colab": {
          "base_uri": "https://localhost:8080/"
        },
        "id": "1cjVFkqDZyLx",
        "outputId": "29e996cd-6a51-4941-a5ff-12b89c6a90b8"
      },
      "source": [
        "ip_encdr = pad_sequences(seqs_ip, maxlen=ip_mx_lnth)\n",
        "print(\"encoder_data.shape:\", ip_encdr.shape)\n",
        "print(\"encoder_data[0]:\", ip_encdr[0])\n",
        "\n",
        "ip_dcdr = pad_sequences(ip_target_seqs, maxlen=trgt_lenth_mx, padding='post')\n",
        "print(\"decoder_data[0]:\", ip_dcdr[0])\n",
        "print(\"decoder_data.shape:\", ip_dcdr.shape)\n",
        "\n",
        "trgt_dcdrs = pad_sequences(target_sequences, maxlen=trgt_lenth_mx, padding='post')"
      ],
      "execution_count": 29,
      "outputs": [
        {
          "output_type": "stream",
          "name": "stdout",
          "text": [
            "encoder_data.shape: (2952, 22)\n",
            "encoder_data[0]: [   0    0    0    0    0    0    0    0    0    0    0    0    0    0\n",
            "    0    0    0    0    0    0    0 1305]\n",
            "decoder_data[0]: [   2 1521    0    0    0    0    0    0    0    0    0    0    0    0\n",
            "    0    0    0    0    0    0    0    0    0    0    0    0]\n",
            "decoder_data.shape: (2952, 26)\n"
          ]
        }
      ]
    },
    {
      "cell_type": "markdown",
      "metadata": {
        "id": "P7iqPLsaQiBN"
      },
      "source": [
        "#storage of all pretrained word vecs"
      ]
    },
    {
      "cell_type": "code",
      "metadata": {
        "colab": {
          "base_uri": "https://localhost:8080/"
        },
        "id": "kxj9khNFZ1QF",
        "outputId": "6486133a-861e-4117-f9fe-1cf6f7702461"
      },
      "source": [
        "\n",
        "print('uploading word vectors   ')\n",
        "wrd_to_vec = {}\n",
        "with open(os.path.join('/content/drive/My Drive/translation_files/glove.6B.%sd.txt' % dim_embedding)) as o:\n",
        " \n",
        "  for line in o:\n",
        "    values = line.split()\n",
        "    word = values[0]\n",
        "    vec = np.asarray(values[1:], dtype='float32')\n",
        "    wrd_to_vec[word] = vec\n",
        "print('%s word vectors were found' % len(wrd_to_vec))"
      ],
      "execution_count": 30,
      "outputs": [
        {
          "output_type": "stream",
          "name": "stdout",
          "text": [
            "uploading word vectors   \n",
            "400000 word vectors were found\n"
          ]
        }
      ]
    },
    {
      "cell_type": "markdown",
      "metadata": {
        "id": "LA15XCGCRKw9"
      },
      "source": [
        "#Embedding Matrix & Embedding Layer"
      ]
    },
    {
      "cell_type": "code",
      "metadata": {
        "colab": {
          "base_uri": "https://localhost:8080/"
        },
        "id": "kCd6C462Z4ri",
        "outputId": "9ed4989f-dd1e-4fa7-e693-d697399c1967"
      },
      "source": [
        "print('Filling pre-trained embeddings...')\n",
        "num_words = min(num_wrds_max, len(inputs_w2ind) + 1)\n",
        "embedding_matrix = np.zeros((num_words, dim_embedding))\n",
        "for word, i in inputs_w2ind.items():\n",
        "  if i < num_wrds_max:\n",
        "    embedding_vector = wrd_to_vec.get(word)\n",
        "    if embedding_vector is not None:\n",
        "      \n",
        "      embedding_matrix[i] = embedding_vector"
      ],
      "execution_count": 31,
      "outputs": [
        {
          "output_type": "stream",
          "name": "stdout",
          "text": [
            "Filling pre-trained embeddings...\n"
          ]
        }
      ]
    },
    {
      "cell_type": "code",
      "metadata": {
        "id": "TckvI0-6Z7Qc"
      },
      "source": [
        "\n",
        "embedding_layer = Embedding(\n",
        "  num_words,\n",
        "  dim_embedding,\n",
        "  weights=[embedding_matrix],\n",
        "  input_length=ip_mx_lnth,\n",
        "  \n",
        ")\n"
      ],
      "execution_count": 32,
      "outputs": []
    },
    {
      "cell_type": "code",
      "metadata": {
        "id": "yfSxt0cQZ-B6"
      },
      "source": [
        "trgt_dcdrs1_hot = np.zeros(\n",
        "  (\n",
        "    len(sentences_inputs),\n",
        "    trgt_lenth_mx,\n",
        "    op_num_wrds\n",
        "  ),\n",
        "  dtype='float32'\n",
        ")\n",
        "\n",
        "\n",
        "for i, d in enumerate(trgt_dcdrs):\n",
        "  for t, word in enumerate(d):\n",
        "    if word > 0:\n",
        "      trgt_dcdrs1_hot[i, t, word] = 1"
      ],
      "execution_count": 33,
      "outputs": []
    },
    {
      "cell_type": "markdown",
      "metadata": {
        "id": "HtmPhISBRXKG"
      },
      "source": [
        "# Model Build"
      ]
    },
    {
      "cell_type": "code",
      "metadata": {
        "id": "LcdcpAHFuCIG"
      },
      "source": [
        "\n",
        "ip_encdr_plshldr = Input(shape=(ip_mx_lnth,))\n",
        "x = embedding_layer(ip_encdr_plshldr)\n",
        "encoder = LSTM(\n",
        "  dim_latent,\n",
        "  return_state=True,\n",
        "  \n",
        ")\n",
        "encoder_outputs, h, c = encoder(x)\n",
        "\n",
        "\n",
        "\n",
        "encoder_states = [h, c]"
      ],
      "execution_count": 34,
      "outputs": []
    },
    {
      "cell_type": "code",
      "metadata": {
        "id": "vyD5BKEHt-f5"
      },
      "source": [
        "\n",
        "ip_dcdr_plshldr = Input(shape=(trgt_lenth_mx,))\n",
        "\n",
        "\n",
        "decoder_embedding = Embedding(op_num_wrds, dim_embedding)\n",
        "ip_dcdr_x = decoder_embedding(ip_dcdr_plshldr)\n",
        "\n",
        "\n",
        "decoder_lstm = LSTM(\n",
        "  dim_latent,\n",
        "  return_sequences=True,\n",
        "  return_state=True,\n",
        "  \n",
        ")\n",
        "op_dcdr, _, _ = decoder_lstm(\n",
        "  ip_dcdr_x,\n",
        "  initial_state=encoder_states\n",
        ")"
      ],
      "execution_count": 35,
      "outputs": []
    },
    {
      "cell_type": "code",
      "metadata": {
        "id": "oXj72kE4aIpo"
      },
      "source": [
        "dense_dcdr = Dense(op_num_wrds, activation='softmax')\n",
        "op_dcdr = dense_dcdr(op_dcdr)\n",
        "\n",
        "\n",
        "model = Model([ip_encdr_plshldr, ip_dcdr_plshldr], op_dcdr)\n",
        "\n",
        "\n",
        "def custom_loss(y_true, y_pred):\n",
        "  \n",
        "  mask = K.cast(y_true > 0, dtype='float32')\n",
        "  out = mask * y_true * K.log(y_pred)\n",
        "  return -K.sum(out) / K.sum(mask)\n",
        "\n",
        "\n",
        "def acc(y_true, y_pred):\n",
        "  \n",
        "  targ = K.argmax(y_true, axis=-1)\n",
        "  pred = K.argmax(y_pred, axis=-1)\n",
        "  correct = K.cast(K.equal(targ, pred), dtype='float32')\n",
        "  \n",
        "  mask = K.cast(K.greater(targ, 0), dtype='float32')\n",
        "  n_correct = K.sum(mask * correct)\n",
        "  n_total = K.sum(mask)\n",
        "  return n_correct / n_total\n"
      ],
      "execution_count": 36,
      "outputs": []
    },
    {
      "cell_type": "markdown",
      "metadata": {
        "id": "vCvlFVHnR4Uh"
      },
      "source": [
        "# Model Training "
      ]
    },
    {
      "cell_type": "code",
      "metadata": {
        "id": "NCh7_bBKaVj2",
        "colab": {
          "base_uri": "https://localhost:8080/",
          "height": 1000
        },
        "outputId": "3a71925f-2d12-4517-bb58-3248a8a4c7eb"
      },
      "source": [
        "model.compile(optimizer='adam', loss=custom_loss, metrics=[acc])\n",
        "\n",
        "\n",
        "\n",
        "\n",
        "r = model.fit(\n",
        "  [ip_encdr, ip_dcdr], trgt_dcdrs1_hot,\n",
        "  batch_size=n_size_batch,\n",
        "  epochs=nepochs,\n",
        "  validation_split=0.2,\n",
        ")\n",
        "\n",
        "\n",
        "plt.plot(r.history['loss'], label='loss')\n",
        "plt.plot(r.history['val_loss'], label='val_loss')\n",
        "plt.legend()\n",
        "plt.show()\n",
        "\n",
        "\n",
        "plt.plot(r.history['acc'], label='acc')\n",
        "plt.plot(r.history['val_acc'], label='val_acc')\n",
        "plt.legend()\n",
        "plt.show()\n"
      ],
      "execution_count": 38,
      "outputs": [
        {
          "output_type": "stream",
          "name": "stdout",
          "text": [
            "Epoch 1/40\n",
            "37/37 [==============================] - 7s 80ms/step - loss: 4.1878 - acc: 0.2676 - val_loss: 6.0163 - val_acc: 0.1485\n",
            "Epoch 2/40\n",
            "37/37 [==============================] - 2s 49ms/step - loss: 3.9953 - acc: 0.2814 - val_loss: 6.1226 - val_acc: 0.1493\n",
            "Epoch 3/40\n",
            "37/37 [==============================] - 2s 49ms/step - loss: 3.8547 - acc: 0.2927 - val_loss: 6.1644 - val_acc: 0.1523\n",
            "Epoch 4/40\n",
            "37/37 [==============================] - 2s 50ms/step - loss: 3.7210 - acc: 0.3091 - val_loss: 6.1889 - val_acc: 0.1593\n",
            "Epoch 5/40\n",
            "37/37 [==============================] - 2s 52ms/step - loss: 3.5859 - acc: 0.3219 - val_loss: 6.2655 - val_acc: 0.1632\n",
            "Epoch 6/40\n",
            "37/37 [==============================] - 2s 48ms/step - loss: 3.4435 - acc: 0.3401 - val_loss: 6.2830 - val_acc: 0.1657\n",
            "Epoch 7/40\n",
            "37/37 [==============================] - 2s 48ms/step - loss: 3.3069 - acc: 0.3520 - val_loss: 6.3357 - val_acc: 0.1695\n",
            "Epoch 8/40\n",
            "37/37 [==============================] - 2s 48ms/step - loss: 3.1673 - acc: 0.3686 - val_loss: 6.3260 - val_acc: 0.1694\n",
            "Epoch 9/40\n",
            "37/37 [==============================] - 2s 49ms/step - loss: 3.0310 - acc: 0.3845 - val_loss: 6.3928 - val_acc: 0.1741\n",
            "Epoch 10/40\n",
            "37/37 [==============================] - 2s 49ms/step - loss: 2.8911 - acc: 0.4048 - val_loss: 6.4233 - val_acc: 0.1760\n",
            "Epoch 11/40\n",
            "37/37 [==============================] - 2s 52ms/step - loss: 2.7577 - acc: 0.4207 - val_loss: 6.4610 - val_acc: 0.1812\n",
            "Epoch 12/40\n",
            "37/37 [==============================] - 2s 48ms/step - loss: 2.6255 - acc: 0.4429 - val_loss: 6.5254 - val_acc: 0.1779\n",
            "Epoch 13/40\n",
            "37/37 [==============================] - 2s 51ms/step - loss: 2.4938 - acc: 0.4696 - val_loss: 6.5731 - val_acc: 0.1810\n",
            "Epoch 14/40\n",
            "37/37 [==============================] - 2s 48ms/step - loss: 2.3660 - acc: 0.4958 - val_loss: 6.6279 - val_acc: 0.1830\n",
            "Epoch 15/40\n",
            "37/37 [==============================] - 2s 52ms/step - loss: 2.2404 - acc: 0.5237 - val_loss: 6.6552 - val_acc: 0.1842\n",
            "Epoch 16/40\n",
            "37/37 [==============================] - 2s 49ms/step - loss: 2.1206 - acc: 0.5493 - val_loss: 6.6453 - val_acc: 0.1858\n",
            "Epoch 17/40\n",
            "37/37 [==============================] - 2s 51ms/step - loss: 2.0071 - acc: 0.5747 - val_loss: 6.7285 - val_acc: 0.1876\n",
            "Epoch 18/40\n",
            "37/37 [==============================] - 2s 48ms/step - loss: 1.8918 - acc: 0.6042 - val_loss: 6.7694 - val_acc: 0.1851\n",
            "Epoch 19/40\n",
            "37/37 [==============================] - 2s 52ms/step - loss: 1.7860 - acc: 0.6284 - val_loss: 6.8074 - val_acc: 0.1862\n",
            "Epoch 20/40\n",
            "37/37 [==============================] - 2s 49ms/step - loss: 1.6814 - acc: 0.6516 - val_loss: 6.8527 - val_acc: 0.1892\n",
            "Epoch 21/40\n",
            "37/37 [==============================] - 2s 49ms/step - loss: 1.5827 - acc: 0.6748 - val_loss: 6.9152 - val_acc: 0.1851\n",
            "Epoch 22/40\n",
            "37/37 [==============================] - 2s 52ms/step - loss: 1.4955 - acc: 0.6952 - val_loss: 6.9513 - val_acc: 0.1862\n",
            "Epoch 23/40\n",
            "37/37 [==============================] - 2s 52ms/step - loss: 1.4069 - acc: 0.7140 - val_loss: 7.0480 - val_acc: 0.1906\n",
            "Epoch 24/40\n",
            "37/37 [==============================] - 2s 49ms/step - loss: 1.3208 - acc: 0.7333 - val_loss: 7.0318 - val_acc: 0.1917\n",
            "Epoch 25/40\n",
            "37/37 [==============================] - 2s 49ms/step - loss: 1.2516 - acc: 0.7488 - val_loss: 7.1133 - val_acc: 0.1874\n",
            "Epoch 26/40\n",
            "37/37 [==============================] - 2s 52ms/step - loss: 1.1741 - acc: 0.7655 - val_loss: 7.1413 - val_acc: 0.1899\n",
            "Epoch 27/40\n",
            "37/37 [==============================] - 2s 49ms/step - loss: 1.1013 - acc: 0.7832 - val_loss: 7.1742 - val_acc: 0.1885\n",
            "Epoch 28/40\n",
            "37/37 [==============================] - 2s 48ms/step - loss: 1.0351 - acc: 0.7984 - val_loss: 7.2180 - val_acc: 0.1864\n",
            "Epoch 29/40\n",
            "37/37 [==============================] - 2s 49ms/step - loss: 0.9738 - acc: 0.8131 - val_loss: 7.2807 - val_acc: 0.1879\n",
            "Epoch 30/40\n",
            "37/37 [==============================] - 2s 49ms/step - loss: 0.9160 - acc: 0.8253 - val_loss: 7.2954 - val_acc: 0.1882\n",
            "Epoch 31/40\n",
            "37/37 [==============================] - 2s 52ms/step - loss: 0.8606 - acc: 0.8375 - val_loss: 7.3429 - val_acc: 0.1849\n",
            "Epoch 32/40\n",
            "37/37 [==============================] - 2s 52ms/step - loss: 0.8104 - acc: 0.8529 - val_loss: 7.3885 - val_acc: 0.1866\n",
            "Epoch 33/40\n",
            "37/37 [==============================] - 2s 52ms/step - loss: 0.7641 - acc: 0.8618 - val_loss: 7.4139 - val_acc: 0.1867\n",
            "Epoch 34/40\n",
            "37/37 [==============================] - 2s 48ms/step - loss: 0.7135 - acc: 0.8748 - val_loss: 7.4571 - val_acc: 0.1827\n",
            "Epoch 35/40\n",
            "37/37 [==============================] - 2s 51ms/step - loss: 0.6698 - acc: 0.8858 - val_loss: 7.5278 - val_acc: 0.1864\n",
            "Epoch 36/40\n",
            "37/37 [==============================] - 2s 52ms/step - loss: 0.6326 - acc: 0.8936 - val_loss: 7.5459 - val_acc: 0.1843\n",
            "Epoch 37/40\n",
            "37/37 [==============================] - 2s 50ms/step - loss: 0.5923 - acc: 0.9000 - val_loss: 7.5832 - val_acc: 0.1845\n",
            "Epoch 38/40\n",
            "37/37 [==============================] - 2s 48ms/step - loss: 0.5553 - acc: 0.9098 - val_loss: 7.6446 - val_acc: 0.1828\n",
            "Epoch 39/40\n",
            "37/37 [==============================] - 2s 49ms/step - loss: 0.5190 - acc: 0.9178 - val_loss: 7.6951 - val_acc: 0.1814\n",
            "Epoch 40/40\n",
            "37/37 [==============================] - 2s 49ms/step - loss: 0.4882 - acc: 0.9244 - val_loss: 7.7020 - val_acc: 0.1828\n"
          ]
        },
        {
          "output_type": "display_data",
          "data": {
            "image/png": "[encoded data removed]",
            "text/plain": [
              "<Figure size 432x288 with 1 Axes>"
            ]
          },
          "metadata": {
            "needs_background": "light"
          }
        },
        {
          "output_type": "display_data",
          "data": {
            "image/png": "[encoded data removed]",
            "text/plain": [
              "<Figure size 432x288 with 1 Axes>"
            ]
          },
          "metadata": {
            "needs_background": "light"
          }
        }
      ]
    },
    {
      "cell_type": "code",
      "metadata": {
        "id": "tibg-6J6qwxG"
      },
      "source": [
        "import tensorflow as tf\n",
        "import keras.losses\n",
        "keras.losses.custom_loss = custom_loss\n",
        "\n",
        "model = tf.keras.models.load_model('/content/drive/My Drive/seq_to_seq98.h5')"
      ],
      "execution_count": null,
      "outputs": []
    },
    {
      "cell_type": "markdown",
      "metadata": {
        "id": "EEuRBqhYSNy4"
      },
      "source": [
        "#Making Predictions"
      ]
    },
    {
      "cell_type": "code",
      "metadata": {
        "id": "5CAYRWeKabSt"
      },
      "source": [
        "\n",
        "encoder_model = Model(ip_encdr_plshldr, encoder_states)\n",
        "\n",
        "ip_state_dcdr_h = Input(shape=(dim_latent,))\n",
        "ip_state_dcdr_c = Input(shape=(dim_latent,))\n",
        "ip_states_dcdr = [ip_state_dcdr_h, ip_state_dcdr_c]\n",
        "\n",
        "\n",
        "single_ip_dcdr = Input(shape=(1,))\n",
        "single_ip_dcdr_x = decoder_embedding(single_ip_dcdr)\n",
        "\n",
        "\n",
        "op_dcdr, h, c = decoder_lstm(\n",
        "  single_ip_dcdr_x,\n",
        "  initial_state=ip_states_dcdr\n",
        ")\n",
        "\n",
        "states_dcdr = [h, c]\n",
        "\n",
        "op_dcdr = dense_dcdr(op_dcdr)\n",
        "\n",
        "\n",
        "model_dcdr = Model(\n",
        "  [single_ip_dcdr] + ip_states_dcdr, \n",
        "  [op_dcdr] + states_dcdr\n",
        ")\n",
        "\n",
        "idx2word_eng = {v:k for k, v in inputs_w2ind.items()}\n",
        "idx2word_trans = {v:k for k, v in outputs_w2ind.items()}\n",
        "\n",
        "def dcdr_seq(input_seq):\n",
        "  \n",
        "  val_states = encoder_model.predict(input_seq)\n",
        "\n",
        "  \n",
        "  seq_trgt = np.zeros((1, 1))\n",
        "\n",
        "\n",
        "  seq_trgt[0, 0] = outputs_w2ind['<sos>']\n",
        "\n",
        "  \n",
        "  eos = outputs_w2ind['<eos>']\n",
        "\n",
        "  \n",
        "  sent_op = []\n",
        "  for _ in range(trgt_lenth_mx):\n",
        "    tkns_op, h, c = model_dcdr.predict(\n",
        "      [seq_trgt] + val_states\n",
        "    )\n",
        "    \n",
        "    ind = np.argmax(tkns_op[0, 0, :])\n",
        "\n",
        "  \n",
        "    if eos == ind:\n",
        "      break\n",
        "\n",
        "    word = ''\n",
        "    if ind > 0:\n",
        "      word = idx2word_trans[ind]\n",
        "      sent_op.append(word)\n",
        "\n",
        "    \n",
        "    seq_trgt[0, 0] = ind\n",
        "\n",
        "    \n",
        "    val_states = [h, c]\n",
        "    \n",
        "\n",
        "  return ' '.join(sent_op)\n",
        "\n",
        "\n",
        "  \n",
        "    \n",
        "  \n",
        "\n",
        "\n",
        "\n",
        "\n"
      ],
      "execution_count": 39,
      "outputs": []
    },
    {
      "cell_type": "markdown",
      "metadata": {
        "id": "2Tg3w0D7SThw"
      },
      "source": [
        "#Model Summarry"
      ]
    },
    {
      "cell_type": "code",
      "metadata": {
        "colab": {
          "base_uri": "https://localhost:8080/"
        },
        "id": "3oywmOGsrO8F",
        "outputId": "784ab911-2262-4ac7-ad2e-0f34501d904b"
      },
      "source": [
        "model.summary()"
      ],
      "execution_count": 40,
      "outputs": [
        {
          "output_type": "stream",
          "name": "stdout",
          "text": [
            "Model: \"model_2\"\n",
            "__________________________________________________________________________________________________\n",
            " Layer (type)                   Output Shape         Param #     Connected to                     \n",
            "==================================================================================================\n",
            " input_3 (InputLayer)           [(None, 22)]         0           []                               \n",
            "                                                                                                  \n",
            " input_4 (InputLayer)           [(None, 26)]         0           []                               \n",
            "                                                                                                  \n",
            " embedding_2 (Embedding)        (None, 22, 100)      243000      ['input_3[0][0]']                \n",
            "                                                                                                  \n",
            " embedding_3 (Embedding)        multiple             319600      ['input_4[0][0]']                \n",
            "                                                                                                  \n",
            " lstm_2 (LSTM)                  [(None, 256),        365568      ['embedding_2[0][0]']            \n",
            "                                 (None, 256),                                                     \n",
            "                                 (None, 256)]                                                     \n",
            "                                                                                                  \n",
            " lstm_3 (LSTM)                  multiple             365568      ['embedding_3[0][0]',            \n",
            "                                                                  'lstm_2[0][1]',                 \n",
            "                                                                  'lstm_2[0][2]']                 \n",
            "                                                                                                  \n",
            " dense_2 (Dense)                multiple             821372      ['lstm_3[0][0]']                 \n",
            "                                                                                                  \n",
            "==================================================================================================\n",
            "Total params: 2,115,108\n",
            "Trainable params: 2,115,108\n",
            "Non-trainable params: 0\n",
            "__________________________________________________________________________________________________\n"
          ]
        }
      ]
    },
    {
      "cell_type": "markdown",
      "metadata": {
        "id": "dVQnWQKqSWzG"
      },
      "source": [
        "# Testing Translations"
      ]
    },
    {
      "cell_type": "code",
      "metadata": {
        "colab": {
          "base_uri": "https://localhost:8080/"
        },
        "id": "XtM_gnH0EkhG",
        "outputId": "31b898c4-fbea-44d0-8136-4538188ed741"
      },
      "source": [
        "while True:\n",
        "    i = np.random.choice(len(sentences_inputs))\n",
        "    input_seq = ip_encdr[i:i+1]\n",
        "    translation = dcdr_seq(input_seq)\n",
        "    print('--------------------------')\n",
        "    print('English i/p:', sentences_inputs[i])\n",
        "    print('Hindi Translated O/p:', translation)\n",
        "\n",
        "    response = input(\"press  n  to exit         \")\n",
        "    if response and response.lower().startswith('n'):\n",
        "      break\n",
        "    "
      ],
      "execution_count": 41,
      "outputs": [
        {
          "name": "stdout",
          "output_type": "stream",
          "text": [
            "--------------------------\n",
            "English i/p: Unbelievable!\n",
            "Hindi Translated O/p: अविश्वसनीय!\n",
            "press  n  to exit         y\n",
            "--------------------------\n",
            "English i/p: Is anybody here?\n",
            "Hindi Translated O/p: कोई है क्या?\n",
            "press  n  to exit         y\n",
            "--------------------------\n",
            "English i/p: He hesitated for a moment.\n",
            "Hindi Translated O/p: उसने थोड़ी देर हिचकिचाया।\n",
            "press  n  to exit         y\n",
            "--------------------------\n",
            "English i/p: Clean the room.\n",
            "Hindi Translated O/p: कमरे को साफ़ करो।\n",
            "press  n  to exit         y\n",
            "--------------------------\n",
            "English i/p: May I go ahead of you?\n",
            "Hindi Translated O/p: क्या मैं आपसे आगे चली जाऊं?\n",
            "press  n  to exit         y\n",
            "--------------------------\n",
            "English i/p: Do I have to stay in the hospital?\n",
            "Hindi Translated O/p: क्या मुझे अस्पताल में रहना होगा?\n",
            "press  n  to exit         y\n",
            "--------------------------\n",
            "English i/p: We hurried to the train station.\n",
            "Hindi Translated O/p: हम जल्दबाज़ी में ट्रेन स्टेशन गए।\n",
            "press  n  to exit         y\n",
            "--------------------------\n",
            "English i/p: I motioned for her to sit down.\n",
            "Hindi Translated O/p: मैंने उससे बैठ जाने का इशारा किया।\n",
            "press  n  to exit         y\n",
            "--------------------------\n",
            "English i/p: I have nothing to say with regard to that problem.\n",
            "Hindi Translated O/p: मुझे इस विषय के बारे में कुछ नहीं किया कि नहीं।\n",
            "press  n  to exit         y\n",
            "--------------------------\n",
            "English i/p: The man who is standing there is my father.\n",
            "Hindi Translated O/p: उस आदमी ने जो चोट में भी अब पर है।\n",
            "press  n  to exit         y\n",
            "--------------------------\n",
            "English i/p: Bern is the capital of Switzerland.\n",
            "Hindi Translated O/p: बर्न स्विजरलैंड की राजधानी है।\n",
            "press  n  to exit         y\n",
            "--------------------------\n",
            "English i/p: You're tired, aren't you?\n",
            "Hindi Translated O/p: तुम थक गए हो, है ना?\n",
            "press  n  to exit         y\n",
            "--------------------------\n",
            "English i/p: It was my suitcase.\n",
            "Hindi Translated O/p: यह मेरा सूटकेस था।\n",
            "press  n  to exit         y\n",
            "--------------------------\n",
            "English i/p: I don't know how, but you did it.\n",
            "Hindi Translated O/p: पता नहीं कैसे पर तुमने नहीं कर सकता।\n",
            "press  n  to exit         y\n",
            "--------------------------\n",
            "English i/p: We shared the profit among us all.\n",
            "Hindi Translated O/p: हमने मुनाफ़े को अपने बीच बाँटा।\n",
            "press  n  to exit         y\n",
            "--------------------------\n",
            "English i/p: He is tall and strong.\n",
            "Hindi Translated O/p: वह लम्बा और ताकतवर है।\n",
            "press  n  to exit         y\n",
            "--------------------------\n",
            "English i/p: What is this nonsense?\n",
            "Hindi Translated O/p: यह क्या बकवास है?\n",
            "press  n  to exit         y\n",
            "--------------------------\n",
            "English i/p: Did you feel the earthquake this morning?\n",
            "Hindi Translated O/p: तुम आज रात पर किताब पर है?\n",
            "press  n  to exit         y\n",
            "--------------------------\n",
            "English i/p: At last, we got to the lake.\n",
            "Hindi Translated O/p: हम आखिरकार झील तक पहुँच गए।\n",
            "press  n  to exit         y\n",
            "--------------------------\n",
            "English i/p: I've never met such a kind man.\n",
            "Hindi Translated O/p: मैं कभी भी इतने दयालु व्यक्ति से नहीं मिला।\n",
            "press  n  to exit         y\n",
            "--------------------------\n",
            "English i/p: Tom wants to know why you didn't call him back.\n",
            "Hindi Translated O/p: टॉम कभी नहीं क्यों नहीं न मदद करना चाहता था कि तुम ऐसा जाओगे।\n",
            "press  n  to exit         y\n",
            "--------------------------\n",
            "English i/p: She left the baby crying.\n",
            "Hindi Translated O/p: उसने बच्चे को रोते हुए छोड़ दिया।\n",
            "press  n  to exit         y\n",
            "--------------------------\n",
            "English i/p: It hardly ever rains there.\n",
            "Hindi Translated O/p: यहाँ पर बारिश से बारिश से बारिश होती है।\n",
            "press  n  to exit         y\n",
            "--------------------------\n",
            "English i/p: They dug here and there for treasure.\n",
            "Hindi Translated O/p: उन्होंने ख़ज़ाना ढूँढने के लिए यहाँ-वहाँ खोदा।\n",
            "press  n  to exit         y\n",
            "--------------------------\n",
            "English i/p: She always tries something new.\n",
            "Hindi Translated O/p: वह हमेशा हमेशा पैसे उधार ज़रूरी है।\n",
            "press  n  to exit         y\n",
            "--------------------------\n",
            "English i/p: This house has eleven rooms.\n",
            "Hindi Translated O/p: इस मकान में ग्यारह कमरे हैं।\n",
            "press  n  to exit         y\n",
            "--------------------------\n",
            "English i/p: Don't get fat.\n",
            "Hindi Translated O/p: मोटे मत हो जाना।\n",
            "press  n  to exit         y\n",
            "--------------------------\n",
            "English i/p: I like studying English.\n",
            "Hindi Translated O/p: मुझे अंग्रेज़ी पढ़ना अच्छा लगता है।\n",
            "press  n  to exit         y\n",
            "--------------------------\n",
            "English i/p: We went shopping.\n",
            "Hindi Translated O/p: हम खरीदारी करने गए थे।\n",
            "press  n  to exit         n\n"
          ]
        }
      ]
    },
    {
      "cell_type": "code",
      "metadata": {
        "id": "t9MynS_ca1Uz"
      },
      "source": [
        ""
      ],
      "execution_count": null,
      "outputs": []
    }
  ]
}